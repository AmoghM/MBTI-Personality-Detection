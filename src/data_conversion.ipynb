{
 "cells": [
  {
   "cell_type": "code",
   "execution_count": 2,
   "metadata": {},
   "outputs": [],
   "source": [
    "import pandas as pd\n",
    "import json"
   ]
  },
  {
   "cell_type": "code",
   "execution_count": 8,
   "metadata": {},
   "outputs": [],
   "source": [
    "mbti_comments= pd.read_csv(\"../data/mbti_comments/mbti_comments_cleaned.csv\",chunksize=1000)"
   ]
  },
  {
   "cell_type": "code",
   "execution_count": 9,
   "metadata": {},
   "outputs": [],
   "source": [
    "label_encoding = {\n",
    "\"istj\":1,\n",
    "\"istp\":2,\n",
    "\"isfj\":3,\n",
    "\"isfp\":4,\n",
    "\"infj\":5,\n",
    "\"infp\":6,\n",
    "\"intj\":7,\n",
    "\"intp\":8,\n",
    "\"estp\":9,\n",
    "\"estj\":10,\n",
    "\"esfp\":11,\n",
    "\"esfj\":12,\n",
    "\"enfp\":13,\n",
    "\"enfj\":14,\n",
    "\"entp\":15,\n",
    "\"entj\":16\n",
    "}"
   ]
  },
  {
   "cell_type": "code",
   "execution_count": 10,
   "metadata": {},
   "outputs": [],
   "source": [
    "def elmo(dataframe,seq_len=60):\n",
    "    count=0\n",
    "    data = []\n",
    "    for chunk in dataframe:\n",
    "        comments = chunk['comment']\n",
    "        labels = chunk['type']\n",
    "        for comment,label in zip(comments,labels):\n",
    "            comment_split = str(comment).split()\n",
    "            comment_chunk = [comment_split[i:i + seq_len] for i in range(0, len(comment_split), seq_len)]\n",
    "\n",
    "            for i in comment_chunk:\n",
    "                data.append({\"text\":str(i),\"label\":label_encoding[label]})\n",
    "                count+=1\n",
    "            if count%10000==0:\n",
    "                print(count/10000)\n",
    "    return data"
   ]
  },
  {
   "cell_type": "code",
   "execution_count": 11,
   "metadata": {},
   "outputs": [],
   "source": [
    "data = elmo(mbti_comments,seq_len=10000)"
   ]
  },
  {
   "cell_type": "code",
   "execution_count": 13,
   "metadata": {},
   "outputs": [
    {
     "data": {
      "text/plain": [
       "26921"
      ]
     },
     "execution_count": 13,
     "metadata": {},
     "output_type": "execute_result"
    }
   ],
   "source": [
    "len(data)"
   ]
  },
  {
   "cell_type": "code",
   "execution_count": 14,
   "metadata": {},
   "outputs": [
    {
     "data": {
      "text/plain": [
       "{'text': \"['some', 'people', 'just', 'dont', 'know', 'how', 'to', 'accept', 'or', 'give', 'compliments', 'didnt', 'know', 'what', 'sex', 'was', 'until', 'i', 'saw', 'an', 'episode', 'of', 'felicity', 'explain', 'it', 'when', 'i', 'was', '<number>', 'tv', 'shows', 'never', 'showed', 'the', 'difference', 'between', 'sex', 'and', 'kissing', 'i', 'dont', 'know', 'about', 'you', 'but', 'the', 'first', 'thing', 'i', 'noticed', 'was', 'the', 'beautiful', 'tree', 'got', 'an', 'always', 'sensitive', 'bladder', 'protection', 'underwear', 'by', 'mistake', 'i', 'only', 'started', 'taking', 'antianxiety', 'drugs', '<number>', 'years', 'ago', 'and', 'the', 'anxiety', 'is', 'completely', 'gone', 'now', 'the', 'psychiatrist', 'is', 'going', 'to', 'try', 'to', 'take', 'me', 'off', 'them', 'in', 'the', 'next', 'several', 'months', 'i', 'dont', 'agree', 'with', 'the', 'other', 'commenters', 'recommendation', 'to', 'read', 'your', 'boyfriends', 'communications', 'thats', 'an', 'invasion', 'of', 'privacy', 'and', 'a', 'good', 'way', 'to', 'get', 'dumped', 'i', 'would', 'suggest', 'talking', 'to', 'a', 'therapist', 'or', 'changing', 'your', 'medications', 'to', 'help', 'stop', 'these', 'invasive', 'thoughts', 'to', 'be', 'healthy', 'i', 'like', 'to', 'pour', 'a', 'can', 'of', 'beans', 'into', 'a', 'tupperware', 'and', 'match', 'it', 'with', 'a', 'vegetable', 'for', 'instance', 'black', 'beans', 'and', 'chickpeas', 'taste', 'really', 'good', 'with', 'avocados', 'and', 'white', 'beans', 'taste', 'good', 'with', 'tomatoes', 'when', 'i', 'was', 'in', 'high', 'school', 'i', 'was', 'gesturing', 'so', 'wildly', 'that', 'i', 'hit', 'a', 'short', 'girl', 'in', 'the', 'forehead', 'as', 'she', 'was', 'walking', 'by', 'my', 'friends', 'and', 'i', 'walked', 'out', 'on', 'john', 'q', 'denzel', 'washington', 'movie', 'where', 'he', 'holds', 'the', 'hospital', 'hostage', 'so', 'they', 'can', 'help', 'his', 'sick', 'son', 'i', 'just', 'remember', 'that', 'the', 'actors', 'became', 'vessels', 'to', 'complain', 'about', 'the', 'healthcare', 'industry', 'and', 'it', 'became', 'unending', 'dialogue', 'about', 'the', 'topic', 'very', 'boring', 'if', 'you', 'went', 'to', 'the', 'movie', 'expecting', 'a', 'thriller', 'and', 'you', 'are', '<number>', 'years', 'old', 'they', 'should', 'have', 'made', 'a', 'documentary', 'if', 'their', 'aim', 'was', 'social', 'commentary', 'and', 'stop', 'pretending', 'it', 'was', 'about', 'a', 'father', 'and', 'his', 'son', 'i', 'work', 'in', 'a', 'government', 'agency', 'with', 'highly', 'paid', 'workers', 'and', 'our', 'food', 'is', 'stolen', 'all', 'the', 'time', 'i', 'now', 'leave', 'my', 'food', 'at', 'my', 'desk', 'so', 'my', 'food', 'isnt', 'stolen', 'i', 'saw', 'the', 'first', 'episode', 'and', 'determined', 'it', 'was', 'the', 'worst', 'show', 'ever', 'made', 'the', 'writing', 'is', 'terrible', 'and', 'the', 'humans', 'dont', 'act', 'like', 'humans', 'for', 'instance', 'the', 'main', 'girl', 'realizes', 'shes', 'pregnant', 'and', 'then', 'tells', 'her', 'friend', 'shes', 'going', 'to', 'forget', 'about', 'it', 'and', 'pretend', 'it', 'never', 'happened', 'or', 'something', 'stupid', 'like', 'that', 'i', 'wish', 'i', 'had', 'known', 'about', 'this', 'subreddit', 'two', 'summers', 'ago', 'when', 'my', 'anxiety', 'kept', 'me', 'from', 'work', 'and', 'functioning', 'i', 'am', 'now', 'on', 'the', 'lowest', 'dose', 'of', 'mirtazapine', 'and', 'havent', 'felt', 'any', 'real', 'anxiety', 'for', 'the', 'last', '<number>', 'years', 'it', 'shouldnt', 'always', 'fall', 'to', 'the', 'guy', 'to', 'ask', 'the', 'girl', 'out', 'i', 'asked', 'out', 'my', 'husband', 'in', 'college', 'since', 'i', 'knew', 'hed', 'never', 'have', 'the', 'balls', 'still', 'nerve', 'wrecking', 'and', 'now', 'weve', 'been', 'together', '<number>', 'years', 'before', 'we', 'started', 'officially', 'started', 'dating', 'we', 'would', 'hang', 'out', 'alone', 'together', 'because', 'we', 'had', 'mutual', 'interests', 'in', 'playing', 'piano', 'and', 'eating', 'but', 'they', 'werent', 'dates', 'i', 'think', 'if', 'you', 'approach', 'it', 'that', 'way', 'its', 'less', 'scary', 'and', 'lets', 'things', 'occur', 'naturally', 'instead', 'of', 'freaking', 'out', 'about', 'asking', 'a', 'girl', 'out', 'you', 'should', 'consider', 'joining', 'a', 'toastmasters', 'club', 'near', 'you', 'so', 'you', 'can', 'regularly', 'practice', 'your', 'public', 'speaking', 'so', 'you', 'can', 'be', 'less', 'nervous', 'in', 'front', 'of', 'people', 'its', 'a', 'really', 'important', 'skill', 'to', 'have', 'if', 'you', 'plan', 'to', 'work', 'in', 'an', 'office', 'environment', 'one', 'day', 'i', 'was', 'always', 'okay', 'with', 'planned', 'prepared', 'speeches', 'but', 'used', 'to', 'be', 'scared', 'of', 'doing', 'impromptu', 'speaking', 'at', 'meetings', 'i', 'went', 'to', 'toastmasters', 'for', 'a', 'few', 'years', 'and', 'that', 'relieved', 'my', 'anxiety', 'a', 'lot', 'my', 'anxiety', 'landed', 'me', 'in', 'the', 'hospital', 'after', 'the', 'xanax', 'i', 'took', 'for', 'the', 'first', 'time', 'wore', 'off', 'and', 'gave', 'me', 'suicidal', 'ideation', 'and', 'made', 'me', 'even', 'more', 'anxious', 'started', 'taking', 'medication', 'under', 'psychiatrists', 'instead', 'of', 'gps', 'supervision', 'and', 'anxiety', 'went', 'away', 'after', 'one', 'month', 'the', 'xanax', 'and', 'the', 'lexipro', 'i', 'took', 'under', 'gps', 'direction', 'the', 'week', 'i', 'went', 'to', 'the', 'hospital', 'were', 'the', 'first', 'times', 'i', 'ever', 'took', 'antianxiety', 'drugs', 'unlike', 'a', 'lot', 'of', 'people', 'in', 'this', 'subreddit', 'i', 'did', 'not', 'need', 'therapy', 'to', 'get', 'better', 'since', 'it', 'was', 'medical', 'for', 'me', 'and', 'not', 'environmental', 'i', 'went', 'to', 'therapy', 'twice', 'and', 'we', 'realized', 'i', 'didnt', 'need', 'it', 'has', 'anyone', 'ever', 'told', 'you', 'that', 'youre', 'a', 'good', 'looking', 'asshole', 'a', 'bunch', 'of', 'interns', 'rented', 'from', 'the', 'monterey', 'a', 'few', 'years', 'ago', 'forrest', 'gump', 'and', '<number>', 'days', 'of', 'summer', 'post', 'a', 'pic', 'after', 'you', 'get', 'your', 'makeover', 'if', 'you', 'were', 'a', 'woman', 'id', 'think', 'you', 'were', 'fishing', 'for', 'compliments', 'sometimes', 'my', 'stupid', 'cat', 'will', 'push', 'a', 'door', 'closed', 'when', 'she', 'is', 'trying', 'to', 'get', 'through', 'a', 'slightly', 'open', 'door', 'then', 'she', 'meows', 'at', 'me', 'to', 'open', 'it', 'and', 'continues', 'to', 'push', 'it', 'closed', 'because', 'she', 'doesnt', 'understand', 'the', 'concept', 'of', 'pulling', 'something', 'open', 'she', 'also', 'doesnt', 'remember', 'she', 'hates', 'her', 'carrier', 'since', 'she', 'walks', 'voluntarily', 'into', 'it', 'every', 'time', 'i', 'bring', 'it', 'out', 'i', 'was', 'diagnosed', 'with', 'a', 'mood', 'disorder', '<number>', 'years', 'ago', 'after', 'my', 'anxiety', 'landed', 'me', 'in', 'the', 'hospital', 'my', 'mental', 'illness', 'didnt', 'fit', 'in', 'any', 'of', 'the', 'categories', 'so', 'thats', 'why', 'its', 'just', 'mood', 'disorder', 'since', 'getting', 'medicated', 'i', 'lost', 'my', 'anxiety', 'completely', 'and', 'my', 'psychiatrist', 'wants', 'to', 'take', 'me', 'off', 'my', 'drugs', 'completely', 'in', 'the', 'next', 'several', 'months', 'just', 'wondering', 'for', 'others', 'who', 'have', 'been', 'taken', 'off', 'their', 'drugs', 'is', 'an', 'anxiety', 'relapse', 'common', 'or', 'is', 'it', 'possible', 'how', 'long', 'after', 'you', 'are', 'taken', 'off', 'the', 'drugs', 'does', 'the', 'relapse', 'occur', 'its', '<number>', 'minutes', 'from', 'the', 'metro', 'and', 'close', 'to', 'a', 'lot', 'of', 'good', 'restaurants', 'what', 'cities', 'do', 'people', 'live', 'in', 'that', 'they', 'are', 'getting', 'the', 'pizza', 'i', 'live', 'in', 'a', 'populous', 'suburb', 'outside', 'of', 'dc', 'and', 'it', 'said', 'it', 'didnt', 'service', 'my', 'area', 'talk', 'to', 'your', 'doctor', 'to', 'find', 'the', 'right', 'drug', 'for', 'you', 'although', 'im', 'against', 'using', 'ssris', 'as', 'they', 'make', 'you', 'more', 'anxious', 'first', 'before', 'you', 'get', 'better', 'and', 'what', 'actually', 'landed', 'me', 'in', 'the', 'hospital', 'it', 'removes', 'all', 'my', 'physical', 'symptoms', 'it', 'doesnt', 'interfere', 'with', 'libido', 'and', 'helps', 'me', 'sleep', 'at', 'night', 'i', 'stopped', 'therapy', 'after', '<number>', 'sessions', 'since', 'we', 'realized', 'there', 'were', 'no', 'environmental', 'issues', 'that', 'were', 'making', 'me', 'anxious', 'and', 'with', 'the', 'right', 'drugs', 'i', 'lost', 'my', 'anxiety', 'completely']\",\n",
       " 'label': 1}"
      ]
     },
     "execution_count": 14,
     "metadata": {},
     "output_type": "execute_result"
    }
   ],
   "source": [
    "data[0]"
   ]
  },
  {
   "cell_type": "code",
   "execution_count": 15,
   "metadata": {},
   "outputs": [],
   "source": [
    "train = data[:int(len(data)*0.8)]\n",
    "test = data[int(len(data)*0.8):]"
   ]
  },
  {
   "cell_type": "code",
   "execution_count": 16,
   "metadata": {},
   "outputs": [],
   "source": [
    "def export_data_json(data,path):\n",
    "    with open(path,\"a+\",encoding=\"utf-8\") as fw:\n",
    "        for idx, row in enumerate(data):\n",
    "            if idx%100000==0:\n",
    "                print(idx/100000)\n",
    "            json.dump(row, fw)\n",
    "            fw.write(\"\\n\")"
   ]
  },
  {
   "cell_type": "code",
   "execution_count": 17,
   "metadata": {},
   "outputs": [],
   "source": [
    "def convert_json_to_csv(data,write_path,header=False):\n",
    "    df_data = pd.DataFrame.from_dict(data, orient='columns')\n",
    "    df_data = df_data[['label','text']]\n",
    "    return df_data.to_csv(write_path,index=False,encoding=\"utf-8\",header=header)"
   ]
  },
  {
   "cell_type": "code",
   "execution_count": 59,
   "metadata": {},
   "outputs": [],
   "source": [
    "convert_json_to_csv(train,\"../data/mbti_comments/cleaned/train_clean_mbti.csv\")\n",
    "convert_json_to_csv(test,\"../data/mbti_comments/cleaned/test_clean_mbti.csv\")"
   ]
  },
  {
   "cell_type": "code",
   "execution_count": 18,
   "metadata": {},
   "outputs": [
    {
     "name": "stdout",
     "output_type": "stream",
     "text": [
      "0.0\n",
      "0.0\n"
     ]
    }
   ],
   "source": [
    "export_data_json(train,\"../data/mbti_comments/cleaned/train_clean_mbti2.json\")\n",
    "export_data_json(test,\"../data/mbti_comments/cleaned/test_clean_mbti2.json\")"
   ]
  },
  {
   "cell_type": "code",
   "execution_count": 69,
   "metadata": {},
   "outputs": [
    {
     "data": {
      "text/plain": [
       "2222461"
      ]
     },
     "execution_count": 69,
     "metadata": {},
     "output_type": "execute_result"
    }
   ],
   "source": [
    "len(train)"
   ]
  },
  {
   "cell_type": "code",
   "execution_count": null,
   "metadata": {},
   "outputs": [],
   "source": []
  }
 ],
 "metadata": {
  "kernelspec": {
   "display_name": "Python 3",
   "language": "python",
   "name": "python3"
  },
  "language_info": {
   "codemirror_mode": {
    "name": "ipython",
    "version": 3
   },
   "file_extension": ".py",
   "mimetype": "text/x-python",
   "name": "python",
   "nbconvert_exporter": "python",
   "pygments_lexer": "ipython3",
   "version": "3.7.6"
  }
 },
 "nbformat": 4,
 "nbformat_minor": 4
}
