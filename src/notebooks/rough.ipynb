{
 "cells": [
  {
   "cell_type": "code",
   "execution_count": 1,
   "metadata": {},
   "outputs": [],
   "source": [
    "import pandas as pd"
   ]
  },
  {
   "cell_type": "code",
   "execution_count": 25,
   "metadata": {},
   "outputs": [],
   "source": [
    "df = pd.read_csv('../data/mbti_comments/mbti_comments_cleaned.csv',chunksize=1000)"
   ]
  },
  {
   "cell_type": "code",
   "execution_count": 26,
   "metadata": {},
   "outputs": [],
   "source": [
    "label_encoding = {\n",
    "\"istj\":1,\n",
    "\"istp\":2,\n",
    "\"isfj\":3,\n",
    "\"isfp\":4,\n",
    "\"infj\":5,\n",
    "\"infp\":6,\n",
    "\"intj\":7,\n",
    "\"intp\":8,\n",
    "\"estp\":9,\n",
    "\"estj\":10,\n",
    "\"esfp\":11,\n",
    "\"esfj\":12,\n",
    "\"enfp\":13,\n",
    "\"enfj\":14,\n",
    "\"entp\":15,\n",
    "\"entj\":16\n",
    "}"
   ]
  },
  {
   "cell_type": "code",
   "execution_count": 27,
   "metadata": {},
   "outputs": [],
   "source": [
    "data= []\n",
    "for chunk in df:\n",
    "    comments = chunk['comment'].tolist()\n",
    "    labels = chunk['type'].tolist()\n",
    "    for comment, label in zip(comments,labels):\n",
    "        data.append({\"label\":label_encoding[label], \"text\":comment})"
   ]
  },
  {
   "cell_type": "code",
   "execution_count": 28,
   "metadata": {},
   "outputs": [],
   "source": [
    "def convert_json_to_csv(data,write_path,col,header=False):\n",
    "    df_data = pd.DataFrame.from_dict(data, orient='columns')\n",
    "    df_data = df_data[col]\n",
    "    return df_data.to_csv(write_path,index=False,encoding=\"utf-8\",header=header)"
   ]
  },
  {
   "cell_type": "code",
   "execution_count": 31,
   "metadata": {},
   "outputs": [],
   "source": [
    "convert_json_to_csv(data,\"../data/mbti_comments/cleaned/automl.csv\",['text','label'])"
   ]
  },
  {
   "cell_type": "code",
   "execution_count": null,
   "metadata": {},
   "outputs": [],
   "source": []
  }
 ],
 "metadata": {
  "kernelspec": {
   "display_name": "Python 3",
   "language": "python",
   "name": "python3"
  },
  "language_info": {
   "codemirror_mode": {
    "name": "ipython",
    "version": 3
   },
   "file_extension": ".py",
   "mimetype": "text/x-python",
   "name": "python",
   "nbconvert_exporter": "python",
   "pygments_lexer": "ipython3",
   "version": "3.7.6"
  }
 },
 "nbformat": 4,
 "nbformat_minor": 4
}
