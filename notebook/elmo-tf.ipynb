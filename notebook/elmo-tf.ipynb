{
 "cells": [
  {
   "cell_type": "code",
   "execution_count": 2,
   "metadata": {},
   "outputs": [
    {
     "name": "stderr",
     "output_type": "stream",
     "text": [
      "/home/amoghmishra23/.local/lib/python3.7/site-packages/tensorflow/python/framework/dtypes.py:516: FutureWarning: Passing (type, 1) or '1type' as a synonym of type is deprecated; in a future version of numpy, it will be understood as (type, (1,)) / '(1,)type'.\n",
      "  _np_qint8 = np.dtype([(\"qint8\", np.int8, 1)])\n",
      "/home/amoghmishra23/.local/lib/python3.7/site-packages/tensorflow/python/framework/dtypes.py:517: FutureWarning: Passing (type, 1) or '1type' as a synonym of type is deprecated; in a future version of numpy, it will be understood as (type, (1,)) / '(1,)type'.\n",
      "  _np_quint8 = np.dtype([(\"quint8\", np.uint8, 1)])\n",
      "/home/amoghmishra23/.local/lib/python3.7/site-packages/tensorflow/python/framework/dtypes.py:518: FutureWarning: Passing (type, 1) or '1type' as a synonym of type is deprecated; in a future version of numpy, it will be understood as (type, (1,)) / '(1,)type'.\n",
      "  _np_qint16 = np.dtype([(\"qint16\", np.int16, 1)])\n",
      "/home/amoghmishra23/.local/lib/python3.7/site-packages/tensorflow/python/framework/dtypes.py:519: FutureWarning: Passing (type, 1) or '1type' as a synonym of type is deprecated; in a future version of numpy, it will be understood as (type, (1,)) / '(1,)type'.\n",
      "  _np_quint16 = np.dtype([(\"quint16\", np.uint16, 1)])\n",
      "/home/amoghmishra23/.local/lib/python3.7/site-packages/tensorflow/python/framework/dtypes.py:520: FutureWarning: Passing (type, 1) or '1type' as a synonym of type is deprecated; in a future version of numpy, it will be understood as (type, (1,)) / '(1,)type'.\n",
      "  _np_qint32 = np.dtype([(\"qint32\", np.int32, 1)])\n",
      "/home/amoghmishra23/.local/lib/python3.7/site-packages/tensorflow/python/framework/dtypes.py:525: FutureWarning: Passing (type, 1) or '1type' as a synonym of type is deprecated; in a future version of numpy, it will be understood as (type, (1,)) / '(1,)type'.\n",
      "  np_resource = np.dtype([(\"resource\", np.ubyte, 1)])\n",
      "/home/amoghmishra23/.local/lib/python3.7/site-packages/tensorboard/compat/tensorflow_stub/dtypes.py:541: FutureWarning: Passing (type, 1) or '1type' as a synonym of type is deprecated; in a future version of numpy, it will be understood as (type, (1,)) / '(1,)type'.\n",
      "  _np_qint8 = np.dtype([(\"qint8\", np.int8, 1)])\n",
      "/home/amoghmishra23/.local/lib/python3.7/site-packages/tensorboard/compat/tensorflow_stub/dtypes.py:542: FutureWarning: Passing (type, 1) or '1type' as a synonym of type is deprecated; in a future version of numpy, it will be understood as (type, (1,)) / '(1,)type'.\n",
      "  _np_quint8 = np.dtype([(\"quint8\", np.uint8, 1)])\n",
      "/home/amoghmishra23/.local/lib/python3.7/site-packages/tensorboard/compat/tensorflow_stub/dtypes.py:543: FutureWarning: Passing (type, 1) or '1type' as a synonym of type is deprecated; in a future version of numpy, it will be understood as (type, (1,)) / '(1,)type'.\n",
      "  _np_qint16 = np.dtype([(\"qint16\", np.int16, 1)])\n",
      "/home/amoghmishra23/.local/lib/python3.7/site-packages/tensorboard/compat/tensorflow_stub/dtypes.py:544: FutureWarning: Passing (type, 1) or '1type' as a synonym of type is deprecated; in a future version of numpy, it will be understood as (type, (1,)) / '(1,)type'.\n",
      "  _np_quint16 = np.dtype([(\"quint16\", np.uint16, 1)])\n",
      "/home/amoghmishra23/.local/lib/python3.7/site-packages/tensorboard/compat/tensorflow_stub/dtypes.py:545: FutureWarning: Passing (type, 1) or '1type' as a synonym of type is deprecated; in a future version of numpy, it will be understood as (type, (1,)) / '(1,)type'.\n",
      "  _np_qint32 = np.dtype([(\"qint32\", np.int32, 1)])\n",
      "/home/amoghmishra23/.local/lib/python3.7/site-packages/tensorboard/compat/tensorflow_stub/dtypes.py:550: FutureWarning: Passing (type, 1) or '1type' as a synonym of type is deprecated; in a future version of numpy, it will be understood as (type, (1,)) / '(1,)type'.\n",
      "  np_resource = np.dtype([(\"resource\", np.ubyte, 1)])\n"
     ]
    }
   ],
   "source": [
    "import tensorflow as tf\n",
    "import tensorflow_hub as hub\n",
    "import pandas as pd\n",
    "import logging\n",
    "logging.getLogger(\"tensorflow\").setLevel(logging.WARNING)"
   ]
  },
  {
   "cell_type": "code",
   "execution_count": 3,
   "metadata": {},
   "outputs": [],
   "source": [
    "embed = hub.Module(\"https://tfhub.dev/google/elmo/2\")"
   ]
  },
  {
   "cell_type": "code",
   "execution_count": 4,
   "metadata": {},
   "outputs": [],
   "source": [
    "class ELMO:\n",
    "    def __init__(self,path,chunksize):\n",
    "        self.path = path\n",
    "        self.chunksize = chunksize\n",
    "\n",
    "    @staticmethod\n",
    "    def read_df(path,chunksize):\n",
    "        return pd.read_csv(path,chunksize=chunksize)\n",
    "        \n",
    "    def fit(self):\n",
    "        self.data = []\n",
    "        self.labels = []\n",
    "        dataframe = ELMO.read_df(self.path,self.chunksize)\n",
    "        count=0\n",
    "        with tf.Session() as sess:\n",
    "            sess.run(tf.global_variables_initializer())\n",
    "            sess.run(tf.tables_initializer())\n",
    "            \n",
    "            for chunk in dataframe:\n",
    "                count+=1\n",
    "                print(count)\n",
    "                comments = chunk['comment'].tolist()\n",
    "                self.labels = self.labels + chunk['type'].tolist()\n",
    "                embeddings  = embeddings = embed(comments,signature=\"default\",as_dict=True)[\"elmo\"]\n",
    "                emb = sess.run(embeddings)\n",
    "                self.data.append(emb)"
   ]
  },
  {
   "cell_type": "code",
   "execution_count": null,
   "metadata": {},
   "outputs": [
    {
     "name": "stdout",
     "output_type": "stream",
     "text": [
      "1\n",
      "2\n",
      "3\n",
      "4\n"
     ]
    }
   ],
   "source": [
    "x = ELMO(\"../data/mbti_comments/mbti_comments_cleaned.csv\",1)\n",
    "x.fit()"
   ]
  },
  {
   "cell_type": "code",
   "execution_count": 95,
   "metadata": {},
   "outputs": [],
   "source": [
    "dat = [\"some people just dont know how to accept or give compliments didnt know what sex was until i saw an episode of felicity explain it when i was <number> tv shows never showed the difference between sex and kissing i dont know about you but the first thing i noticed was the beautiful tree got an always sensitive bladder protection underwear by mistake i only started taking antianxiety drugs <number> years ago and the anxiety is completely gone now the psychiatrist is going to try to take me off them in the next several months i dont agree with the other commenters recommendation to read your boyfriends communications thats an invasion of privacy and a good way to get dumped i would suggest talking to a therapist or changing your medications to help stop these invasive thoughts to be healthy i like to pour a can of beans into a tupperware and match it with a vegetable for instance black beans and chickpeas taste really good with avocados and white beans taste good with tomatoes when i was in high school i was gesturing so wildly that i hit a short girl in the forehead as she was walking by my friends and i walked out on john q denzel washington movie where he holds the hospital hostage so they can help his sick son i just remember that the actors became vessels to complain about the healthcare industry and it became unending dialogue about the topic very boring if you went to the movie expecting a thriller and you are <number> years old they should have made a documentary if their aim was social commentary and stop pretending it was about a father and his son i work in a government agency with highly paid workers and our food is stolen all the time i now leave my food at my desk so my food isnt stolen i saw the first episode and determined it was the worst show ever made the writing is terrible and the humans dont act like humans for instance the main girl realizes shes pregnant and then tells her friend shes going to forget about it and pretend it never happened or something stupid like that i wish i had known about this subreddit two summers ago when my anxiety kept me from work and functioning i am now on the lowest dose of mirtazapine and havent felt any real anxiety for the last <number> years it shouldnt always fall to the guy to ask the girl out i asked out my husband in college since i knew hed never have the balls still nerve wrecking and now weve been together <number> years before we started officially started dating we would hang out alone together because we had mutual interests in playing piano and eating but they werent dates i think if you approach it that way its less scary and lets things occur naturally instead of freaking out about asking a girl out you should consider joining a toastmasters club near you so you can regularly practice your public speaking so you can be less nervous in front of people its a really important skill to have if you plan to work in an office environment one day i was always okay with planned prepared speeches but used to be scared of doing impromptu speaking at meetings i went to toastmasters for a few years and that relieved my anxiety a lot my anxiety landed me in the hospital after the xanax i took for the first time wore off and gave me suicidal ideation and made me even more anxious started taking medication under psychiatrists instead of gps supervision and anxiety went away after one month the xanax and the lexipro i took under gps direction the week i went to the hospital were the first times i ever took antianxiety drugs unlike a lot of people in this subreddit i did not need therapy to get better since it was medical for me and not environmental i went to therapy twice and we realized i didnt need it has anyone ever told you that youre a good looking asshole a bunch of interns rented from the monterey a few years ago forrest gump and <number> days of summer post a pic after you get your makeover if you were a woman id think you were fishing for compliments sometimes my stupid cat will push a door closed when she is trying to get through a slightly open door then she meows at me to open it and continues to push it closed because she doesnt understand the concept of pulling something open she also doesnt remember she hates her carrier since she walks voluntarily into it every time i bring it out i was diagnosed with a mood disorder <number> years ago after my anxiety landed me in the hospital my mental illness didnt fit in any of the categories so thats why its just mood disorder since getting medicated i lost my anxiety completely and my psychiatrist wants to take me off my drugs completely in the next several months just wondering for others who have been taken off their drugs is an anxiety relapse common or is it possible how long after you are taken off the drugs does the relapse occur its <number> minutes from the metro and close to a lot of good restaurants what cities do people live in that they are getting the pizza i live in a populous suburb outside of dc and it said it didnt service my area talk to your doctor to find the right drug for you although im against using ssris as they make you more anxious first before you get better and what actually landed me in the hospital it removes all my physical symptoms it doesnt interfere with libido and helps me sleep at night i stopped therapy after <number> sessions since we realized there were no environmental issues that were making me anxious and with the right drugs i lost my anxiety completely\"]"
   ]
  },
  {
   "cell_type": "code",
   "execution_count": 102,
   "metadata": {},
   "outputs": [
    {
     "data": {
      "text/plain": [
       "'some people just dont know how to accept or give compliments didnt know what sex was until i saw an episode of felicity explain it when i was <number> tv shows never showed the difference between sex and kissing i dont know about you but the first thing i noticed was the beautiful tree got an always sensitive bladder protection underwear by mistake i only started taking antianxiety drugs <number> years ago and the anxiety is completely gone now the psychiatrist is going to try to take me off them in the next several months i dont agree with the other commenters recommendation to read your boyfriends communications thats an invasion of privacy and a good way to get dumped i would suggest talking to a therapist or changing your medications to help stop these invasive thoughts to be healthy i like to pour a can of beans into a tupperware and match it with a vegetable for instance black beans and chickpeas taste really good with avocados and white beans taste good with tomatoes when i was in high school i was gesturing so wildly that i hit a short girl in the forehead as she was walking by my friends and i walked out on john q denzel washington movie where he holds the hospital hostage so they can help his sick son i just remember that the actors became vessels to complain about the healthcare industry and it became unending dialogue about the topic very boring if you went to the movie expecting a thriller and you are <number> years old they should have made a documentary if their aim was social commentary and stop pretending it was about a father and his son i work in a government agency with highly paid workers and our food is stolen all the time i now leave my food at my desk so my food isnt stolen i saw the first episode and determined it was the worst show ever made the writing is terrible and the humans dont act like humans for instance the main girl realizes shes pregnant and then tells her friend shes going to forget about it and pretend it never happened or something stupid like that i wish i had known about this subreddit two summers ago when my anxiety kept me from work and functioning i am now on the lowest dose of mirtazapine and havent felt any real anxiety for the last <number> years it shouldnt always fall to the guy to ask the girl out i asked out my husband in college since i knew hed never have the balls still nerve wrecking and now weve been together <number> years before we started officially started dating we would hang out alone together because we had mutual interests in playing piano and eating but they werent dates i think if you approach it that way its less scary and lets things occur naturally instead of freaking out about asking a girl out you should consider joining a toastmasters club near you so you can regularly practice your public speaking so you can be less nervous in front of people its a really important skill to have if you plan to work in an office environment one day i was always okay with planned prepared speeches but used to be scared of doing impromptu speaking at meetings i went to toastmasters for a few years and that relieved my anxiety a lot my anxiety landed me in the hospital after the xanax i took for the first time wore off and gave me suicidal ideation and made me even more anxious started taking medication under psychiatrists instead of gps supervision and anxiety went away after one month the xanax and the lexipro i took under gps direction the week i went to the hospital were the first times i ever took antianxiety drugs unlike a lot of people in this subreddit i did not need therapy to get better since it was medical for me and not environmental i went to therapy twice and we realized i didnt need it has anyone ever told you that youre a good looking asshole a bunch of interns rented from the monterey a few years ago forrest gump and <number> days of summer post a pic after you get your makeover if you were a woman id think you were fishing for compliments sometimes my stupid cat will push a door closed when she is trying to get through a slightly open door then she meows at me to open it and continues to push it closed because she doesnt understand the concept of pulling something open she also doesnt remember she hates her carrier since she walks voluntarily into it every time i bring it out i was diagnosed with a mood disorder <number> years ago after my anxiety landed me in the hospital my mental illness didnt fit in any of the categories so thats why its just mood disorder since getting medicated i lost my anxiety completely and my psychiatrist wants to take me off my drugs completely in the next several months just wondering for others who have been taken off their drugs is an anxiety relapse common or is it possible how long after you are taken off the drugs does the relapse occur its <number> minutes from the metro and close to a lot of good restaurants what cities do people live in that they are getting the pizza i live in a populous suburb outside of dc and it said it didnt service my area talk to your doctor to find the right drug for you although im against using ssris as they make you more anxious first before you get better and what actually landed me in the hospital it removes all my physical symptoms it doesnt interfere with libido and helps me sleep at night i stopped therapy after <number> sessions since we realized there were no environmental issues that were making me anxious and with the right drugs i lost my anxiety completely'"
      ]
     },
     "execution_count": 102,
     "metadata": {},
     "output_type": "execute_result"
    }
   ],
   "source": [
    "dat2 = [dat[0]]*10\n",
    "dat2[0]"
   ]
  },
  {
   "cell_type": "code",
   "execution_count": 5,
   "metadata": {},
   "outputs": [],
   "source": [
    "import logging\n",
    "logging.getLogger(\"tensorflow\").setLevel(logging.WARNING)"
   ]
  },
  {
   "cell_type": "code",
   "execution_count": 7,
   "metadata": {},
   "outputs": [
    {
     "ename": "TypeError",
     "evalue": "'AutoTrackable' object is not callable",
     "output_type": "error",
     "traceback": [
      "\u001b[0;31m---------------------------------------------------------------------------\u001b[0m",
      "\u001b[0;31mTypeError\u001b[0m                                 Traceback (most recent call last)",
      "\u001b[0;32m<ipython-input-7-5b2cb769ea52>\u001b[0m in \u001b[0;36m<module>\u001b[0;34m\u001b[0m\n\u001b[1;32m      3\u001b[0m         \u001b[0;34m[\u001b[0m\u001b[0;34m\"the cat is on the mat\"\u001b[0m\u001b[0;34m,\u001b[0m \u001b[0;34m\"dogs are in the fog\"\u001b[0m\u001b[0;34m]\u001b[0m\u001b[0;34m,\u001b[0m\u001b[0;34m\u001b[0m\u001b[0;34m\u001b[0m\u001b[0m\n\u001b[1;32m      4\u001b[0m         \u001b[0msignature\u001b[0m\u001b[0;34m=\u001b[0m\u001b[0;34m\"default\"\u001b[0m\u001b[0;34m,\u001b[0m\u001b[0;34m\u001b[0m\u001b[0;34m\u001b[0m\u001b[0m\n\u001b[0;32m----> 5\u001b[0;31m         as_dict=True)[\"default\"]\n\u001b[0m\u001b[1;32m      6\u001b[0m \u001b[0;32mwith\u001b[0m \u001b[0mtf\u001b[0m\u001b[0;34m.\u001b[0m\u001b[0mSession\u001b[0m\u001b[0;34m(\u001b[0m\u001b[0;34m)\u001b[0m \u001b[0;32mas\u001b[0m \u001b[0msess\u001b[0m\u001b[0;34m:\u001b[0m\u001b[0;34m\u001b[0m\u001b[0;34m\u001b[0m\u001b[0m\n\u001b[1;32m      7\u001b[0m   \u001b[0msess\u001b[0m\u001b[0;34m.\u001b[0m\u001b[0mrun\u001b[0m\u001b[0;34m(\u001b[0m\u001b[0mtf\u001b[0m\u001b[0;34m.\u001b[0m\u001b[0mglobal_variables_initializer\u001b[0m\u001b[0;34m(\u001b[0m\u001b[0;34m)\u001b[0m\u001b[0;34m)\u001b[0m\u001b[0;34m\u001b[0m\u001b[0;34m\u001b[0m\u001b[0m\n",
      "\u001b[0;31mTypeError\u001b[0m: 'AutoTrackable' object is not callable"
     ]
    }
   ],
   "source": [
    "x=[]\n",
    "embeddings = embed(\n",
    "        [\"the cat is on the mat\", \"dogs are in the fog\"],\n",
    "        signature=\"default\",\n",
    "        as_dict=True)[\"default\"]\n",
    "with tf.Session() as sess:\n",
    "  sess.run(tf.global_variables_initializer())\n",
    "  sess.run(tf.tables_initializer())\n",
    "  x.append(sess.run(embeddings))"
   ]
  },
  {
   "cell_type": "code",
   "execution_count": 7,
   "metadata": {},
   "outputs": [
    {
     "ename": "NameError",
     "evalue": "name 'dat2' is not defined",
     "output_type": "error",
     "traceback": [
      "\u001b[0;31m---------------------------------------------------------------------------\u001b[0m",
      "\u001b[0;31mNameError\u001b[0m                                 Traceback (most recent call last)",
      "\u001b[0;32m<ipython-input-7-aa8d99c4cbe8>\u001b[0m in \u001b[0;36m<module>\u001b[0;34m\u001b[0m\n\u001b[1;32m      1\u001b[0m \u001b[0membed\u001b[0m \u001b[0;34m=\u001b[0m \u001b[0mhub\u001b[0m\u001b[0;34m.\u001b[0m\u001b[0mModule\u001b[0m\u001b[0;34m(\u001b[0m\u001b[0;34m\"https://tfhub.dev/google/elmo/2\"\u001b[0m\u001b[0;34m,\u001b[0m \u001b[0mtrainable\u001b[0m\u001b[0;34m=\u001b[0m\u001b[0;32mTrue\u001b[0m\u001b[0;34m)\u001b[0m\u001b[0;34m\u001b[0m\u001b[0;34m\u001b[0m\u001b[0m\n\u001b[1;32m      2\u001b[0m embeddings = embed(\n\u001b[0;32m----> 3\u001b[0;31m     \u001b[0mdat2\u001b[0m\u001b[0;34m,\u001b[0m\u001b[0;34m\u001b[0m\u001b[0;34m\u001b[0m\u001b[0m\n\u001b[0m\u001b[1;32m      4\u001b[0m     \u001b[0msignature\u001b[0m\u001b[0;34m=\u001b[0m\u001b[0;34m\"default\"\u001b[0m\u001b[0;34m,\u001b[0m\u001b[0;34m\u001b[0m\u001b[0;34m\u001b[0m\u001b[0m\n\u001b[1;32m      5\u001b[0m     as_dict=True)[\"elmo\"]\n",
      "\u001b[0;31mNameError\u001b[0m: name 'dat2' is not defined"
     ]
    }
   ],
   "source": [
    "embed = hub.Module(\"https://tfhub.dev/google/elmo/2\", trainable=True)\n",
    "embeddings = embed(\n",
    "    dat2,\n",
    "    signature=\"default\",\n",
    "    as_dict=True)[\"elmo\"]"
   ]
  },
  {
   "cell_type": "code",
   "execution_count": 104,
   "metadata": {},
   "outputs": [
    {
     "name": "stdout",
     "output_type": "stream",
     "text": [
      "[[[-1.20581515e-01  3.57921779e-01  2.69321382e-01 ... -1.23250037e-01\n",
      "    6.63622797e-01 -1.39852986e-01]\n",
      "  [-5.54930449e-01  2.39222363e-01 -7.30441585e-02 ... -2.68618792e-01\n",
      "    8.87105227e-01  1.44881994e-01]\n",
      "  [-8.17658722e-01  3.57696027e-01  6.13010347e-01 ...  2.46957600e-01\n",
      "    8.28699470e-01 -6.79192543e-02]\n",
      "  ...\n",
      "  [-2.78599679e-01 -2.00186327e-01  1.09567121e-01 ... -1.11746952e-01\n",
      "    1.36369407e-01  1.02621987e-02]\n",
      "  [-1.91634640e-01 -1.57228410e-01  5.03563404e-01 ...  3.37387562e-01\n",
      "    4.44483310e-01  4.20391232e-01]\n",
      "  [ 4.38526720e-02  6.37248158e-04  7.57844567e-01 ... -1.83423497e-02\n",
      "    1.62345320e-01  7.85266459e-01]]\n",
      "\n",
      " [[-1.20581515e-01  3.57921779e-01  2.69321382e-01 ... -1.23250037e-01\n",
      "    6.63622797e-01 -1.39852986e-01]\n",
      "  [-5.54930449e-01  2.39222363e-01 -7.30441585e-02 ... -2.68618792e-01\n",
      "    8.87105227e-01  1.44881994e-01]\n",
      "  [-8.17658722e-01  3.57696027e-01  6.13010347e-01 ...  2.46957600e-01\n",
      "    8.28699470e-01 -6.79192543e-02]\n",
      "  ...\n",
      "  [-2.78599679e-01 -2.00186327e-01  1.09567121e-01 ... -1.11746952e-01\n",
      "    1.36369407e-01  1.02621987e-02]\n",
      "  [-1.91634640e-01 -1.57228410e-01  5.03563404e-01 ...  3.37387562e-01\n",
      "    4.44483310e-01  4.20391232e-01]\n",
      "  [ 4.38526720e-02  6.37248158e-04  7.57844567e-01 ... -1.83423497e-02\n",
      "    1.62345320e-01  7.85266459e-01]]\n",
      "\n",
      " [[-1.20581515e-01  3.57921779e-01  2.69321382e-01 ... -1.23250037e-01\n",
      "    6.63622797e-01 -1.39852986e-01]\n",
      "  [-5.54930449e-01  2.39222363e-01 -7.30441585e-02 ... -2.68618792e-01\n",
      "    8.87105227e-01  1.44881994e-01]\n",
      "  [-8.17658722e-01  3.57696027e-01  6.13010347e-01 ...  2.46957600e-01\n",
      "    8.28699470e-01 -6.79192543e-02]\n",
      "  ...\n",
      "  [-2.78599679e-01 -2.00186327e-01  1.09567121e-01 ... -1.11746952e-01\n",
      "    1.36369407e-01  1.02621987e-02]\n",
      "  [-1.91634640e-01 -1.57228410e-01  5.03563404e-01 ...  3.37387562e-01\n",
      "    4.44483310e-01  4.20391232e-01]\n",
      "  [ 4.38526720e-02  6.37248158e-04  7.57844567e-01 ... -1.83423497e-02\n",
      "    1.62345320e-01  7.85266459e-01]]\n",
      "\n",
      " ...\n",
      "\n",
      " [[-1.20581515e-01  3.57921779e-01  2.69321382e-01 ... -1.23250037e-01\n",
      "    6.63622797e-01 -1.39852986e-01]\n",
      "  [-5.54930449e-01  2.39222363e-01 -7.30441585e-02 ... -2.68618792e-01\n",
      "    8.87105227e-01  1.44881994e-01]\n",
      "  [-8.17658722e-01  3.57696027e-01  6.13010347e-01 ...  2.46957600e-01\n",
      "    8.28699470e-01 -6.79192543e-02]\n",
      "  ...\n",
      "  [-2.78599679e-01 -2.00186327e-01  1.09567121e-01 ... -1.11746952e-01\n",
      "    1.36369407e-01  1.02621987e-02]\n",
      "  [-1.91634640e-01 -1.57228410e-01  5.03563404e-01 ...  3.37387562e-01\n",
      "    4.44483310e-01  4.20391232e-01]\n",
      "  [ 4.38526720e-02  6.37248158e-04  7.57844567e-01 ... -1.83423497e-02\n",
      "    1.62345320e-01  7.85266459e-01]]\n",
      "\n",
      " [[-1.20581515e-01  3.57921779e-01  2.69321382e-01 ... -1.23250037e-01\n",
      "    6.63622797e-01 -1.39852986e-01]\n",
      "  [-5.54930449e-01  2.39222363e-01 -7.30441585e-02 ... -2.68618792e-01\n",
      "    8.87105227e-01  1.44881994e-01]\n",
      "  [-8.17658722e-01  3.57696027e-01  6.13010347e-01 ...  2.46957600e-01\n",
      "    8.28699470e-01 -6.79192543e-02]\n",
      "  ...\n",
      "  [-2.78599679e-01 -2.00186327e-01  1.09567121e-01 ... -1.11746952e-01\n",
      "    1.36369407e-01  1.02621987e-02]\n",
      "  [-1.91634640e-01 -1.57228410e-01  5.03563404e-01 ...  3.37387562e-01\n",
      "    4.44483310e-01  4.20391232e-01]\n",
      "  [ 4.38526720e-02  6.37248158e-04  7.57844567e-01 ... -1.83423497e-02\n",
      "    1.62345320e-01  7.85266459e-01]]\n",
      "\n",
      " [[-1.20581515e-01  3.57921779e-01  2.69321382e-01 ... -1.23249985e-01\n",
      "    6.63622558e-01 -1.39852822e-01]\n",
      "  [-5.54930449e-01  2.39222363e-01 -7.30441585e-02 ... -2.68618703e-01\n",
      "    8.87105107e-01  1.44881964e-01]\n",
      "  [-8.17658722e-01  3.57696027e-01  6.13010347e-01 ...  2.46957526e-01\n",
      "    8.28699231e-01 -6.79190457e-02]\n",
      "  ...\n",
      "  [-2.78599679e-01 -2.00186327e-01  1.09567121e-01 ... -1.11746900e-01\n",
      "    1.36369377e-01  1.02623925e-02]\n",
      "  [-1.91634640e-01 -1.57228410e-01  5.03563404e-01 ...  3.37387741e-01\n",
      "    4.44483429e-01  4.20391142e-01]\n",
      "  [ 4.38526720e-02  6.37166202e-04  7.57844687e-01 ... -1.83422640e-02\n",
      "    1.62345409e-01  7.85266519e-01]]]\n"
     ]
    }
   ],
   "source": [
    "with tf.Session() as sess:\n",
    "  sess.run(tf.global_variables_initializer())\n",
    "  sess.run(tf.tables_initializer())\n",
    "  print(sess.run(embeddings))"
   ]
  },
  {
   "cell_type": "code",
   "execution_count": 88,
   "metadata": {},
   "outputs": [],
   "source": [
    "sess.close()"
   ]
  },
  {
   "cell_type": "code",
   "execution_count": 110,
   "metadata": {},
   "outputs": [],
   "source": [
    "a = [1]"
   ]
  },
  {
   "cell_type": "code",
   "execution_count": 111,
   "metadata": {},
   "outputs": [
    {
     "data": {
      "text/plain": [
       "[1, 2]"
      ]
     },
     "execution_count": 111,
     "metadata": {},
     "output_type": "execute_result"
    }
   ],
   "source": [
    "a + [2]"
   ]
  },
  {
   "cell_type": "code",
   "execution_count": 112,
   "metadata": {},
   "outputs": [
    {
     "data": {
      "text/plain": [
       "[1]"
      ]
     },
     "execution_count": 112,
     "metadata": {},
     "output_type": "execute_result"
    }
   ],
   "source": [
    "a"
   ]
  },
  {
   "cell_type": "code",
   "execution_count": null,
   "metadata": {},
   "outputs": [],
   "source": []
  }
 ],
 "metadata": {
  "kernelspec": {
   "display_name": "Python 3",
   "language": "python",
   "name": "python3"
  },
  "language_info": {
   "codemirror_mode": {
    "name": "ipython",
    "version": 3
   },
   "file_extension": ".py",
   "mimetype": "text/x-python",
   "name": "python",
   "nbconvert_exporter": "python",
   "pygments_lexer": "ipython3",
   "version": "3.7.4"
  }
 },
 "nbformat": 4,
 "nbformat_minor": 4
}
