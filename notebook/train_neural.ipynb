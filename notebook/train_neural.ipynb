{
 "cells": [
  {
   "cell_type": "code",
   "execution_count": 75,
   "metadata": {},
   "outputs": [],
   "source": [
    "import torch\n",
    "from numpy import load\n",
    "import pandas as pd\n",
    "from torch import nn\n",
    "import numpy as np\n",
    "import json\n",
    "from sklearn.model_selection import train_test_split\n",
    "from imblearn.over_sampling import SMOTE;\n",
    "from torch.utils.data import DataLoader"
   ]
  },
  {
   "cell_type": "code",
   "execution_count": 4,
   "metadata": {},
   "outputs": [
    {
     "name": "stdout",
     "output_type": "stream",
     "text": [
      "{14: 10000, 7: 10000, 12: 10000, 15: 10000, 6: 10000, 1: 10000, 2: 4223, 4: 10000, 11: 873, 5: 10000, 3: 5704, 0: 7242, 9: 2166, 8: 2814, 10: 2253, 13: 6725}\n",
      "{14: 10000, 7: 10000, 12: 10000, 15: 10000, 6: 10000, 1: 10000, 2: 4367, 4: 10000, 11: 906, 5: 10000, 3: 5901, 0: 7452, 9: 2220, 8: 2889, 10: 2331, 13: 6934}\n",
      "{14: 10000, 7: 10000, 12: 10000, 15: 10000, 6: 10000, 1: 10000, 2: 4513, 4: 10000, 11: 935, 5: 10000, 3: 6068, 0: 7665, 9: 2287, 8: 2982, 10: 2400, 13: 7150}\n",
      "{14: 10000, 7: 10000, 12: 10000, 15: 10000, 6: 10000, 1: 10000, 2: 4648, 4: 10000, 11: 964, 5: 10000, 3: 6245, 0: 7891, 9: 2349, 8: 3072, 10: 2472, 13: 7359}\n",
      "{14: 10000, 7: 10000, 12: 10000, 15: 10000, 6: 10000, 1: 10000, 2: 4785, 4: 10000, 11: 987, 5: 10000, 3: 6400, 0: 8139, 9: 2413, 8: 3159, 10: 2544, 13: 7573}\n",
      "{14: 10000, 7: 10000, 12: 10000, 15: 10000, 6: 10000, 1: 10000, 2: 4921, 4: 10000, 11: 1014, 5: 10000, 3: 6565, 0: 8366, 9: 2478, 8: 3244, 10: 2624, 13: 7788}\n",
      "{14: 10000, 7: 10000, 12: 10000, 15: 10000, 6: 10000, 1: 10000, 2: 5060, 4: 10000, 11: 1046, 5: 10000, 3: 6751, 0: 8579, 9: 2542, 8: 3352, 10: 2680, 13: 7990}\n",
      "{14: 10000, 7: 10000, 12: 10000, 15: 10000, 6: 10000, 1: 10000, 2: 5199, 4: 10000, 11: 1074, 5: 10000, 3: 6912, 0: 8824, 9: 2613, 8: 3432, 10: 2749, 13: 8197}\n",
      "{14: 10000, 7: 10000, 12: 10000, 15: 10000, 6: 10000, 1: 10000, 2: 5336, 4: 10000, 11: 1111, 5: 10000, 3: 7085, 0: 9057, 9: 2683, 8: 3513, 10: 2814, 13: 8401}\n",
      "{14: 10000, 7: 10000, 12: 10000, 15: 10000, 6: 10000, 1: 10000, 2: 5468, 4: 10000, 11: 1140, 5: 10000, 3: 7254, 0: 9269, 9: 2766, 8: 3600, 10: 2877, 13: 8626}\n",
      "{14: 10000, 7: 10000, 12: 10000, 15: 10000, 6: 10000, 1: 10000, 2: 5609, 4: 10000, 11: 1167, 5: 10000, 3: 7428, 0: 9504, 9: 2833, 8: 3673, 10: 2954, 13: 8832}\n",
      "{14: 10000, 7: 10000, 12: 10000, 15: 10000, 6: 10000, 1: 10000, 2: 5751, 4: 10000, 11: 1193, 5: 10000, 3: 7619, 0: 9716, 9: 2895, 8: 3759, 10: 3020, 13: 9047}\n",
      "{14: 10000, 7: 10000, 12: 10000, 15: 10000, 6: 10000, 1: 10000, 2: 5882, 4: 10000, 11: 1225, 5: 10000, 3: 7802, 0: 9938, 9: 2970, 8: 3852, 10: 3076, 13: 9255}\n"
     ]
    }
   ],
   "source": [
    "embedding = []\n",
    "label_enc = []\n",
    "data_count={}\n",
    "count = 1\n",
    "with open(\"output/embedding_extra_clean_seq_60.json\",'r') as fr:\n",
    "    for i in fr:\n",
    "        i = json.loads(i)\n",
    "        em, lab = i['embedding'], i['label']\n",
    "        if lab in data_count:\n",
    "            if data_count[lab]<10000:\n",
    "                data_count[lab]+=1\n",
    "            else:\n",
    "                continue\n",
    "        else:\n",
    "            data_count[lab] = 1\n",
    "        \n",
    "        if count%1000 == 0:\n",
    "            print(data_count)\n",
    "        count+=1\n",
    "        \n",
    "#         if count%10000 == 0:\n",
    "#             print(count/10000)\n",
    "        \n",
    "        embedding.append(i['embedding'])\n",
    "        label_enc.append(i['label'])"
   ]
  },
  {
   "cell_type": "code",
   "execution_count": null,
   "metadata": {},
   "outputs": [],
   "source": [
    "X_sm = embedding\n",
    "y_sm = label_enc"
   ]
  },
  {
   "cell_type": "code",
   "execution_count": null,
   "metadata": {},
   "outputs": [],
   "source": []
  },
  {
   "cell_type": "code",
   "execution_count": null,
   "metadata": {},
   "outputs": [],
   "source": [
    "X_train_mask, X_test_mask, Y_train_mask, Y_test_mask = train_test_split(embedding,label_enc,test_size=0.2,random_state=77)"
   ]
  },
  {
   "cell_type": "code",
   "execution_count": 5,
   "metadata": {},
   "outputs": [],
   "source": [
    "smote = SMOTE();\n",
    "X_sm, y_sm = smote.fit_resample(embedding, label_enc)\n",
    "# X_train_mask, X_test_mask, Y_train_mask, Y_test_mask = train_test_split(X_sm,y_sm,test_size=0.2,random_state=42)\n",
    "# X_train = torch.FloatTensor(X_train_mask)\n",
    "# X_test = torch.FloatTensor(X_test_mask)\n",
    "# Y_train = torch.LongTensor(Y_train_mask)\n",
    "# Y_test = torch.LongTensor(Y_test_mask)"
   ]
  },
  {
   "cell_type": "code",
   "execution_count": 6,
   "metadata": {},
   "outputs": [],
   "source": [
    "del embedding\n",
    "del label_enc"
   ]
  },
  {
   "cell_type": "code",
   "execution_count": 7,
   "metadata": {},
   "outputs": [],
   "source": [
    "from sklearn.model_selection import StratifiedKFold"
   ]
  },
  {
   "cell_type": "code",
   "execution_count": 8,
   "metadata": {},
   "outputs": [
    {
     "data": {
      "text/plain": [
       "5"
      ]
     },
     "execution_count": 8,
     "metadata": {},
     "output_type": "execute_result"
    }
   ],
   "source": [
    "skf = StratifiedKFold(n_splits=5,shuffle=True)\n",
    "skf.get_n_splits(X_sm, y_sm)"
   ]
  },
  {
   "cell_type": "code",
   "execution_count": 9,
   "metadata": {},
   "outputs": [],
   "source": [
    "for train_index, test_index in skf.split(X_sm, y_sm):\n",
    "    X_train, X_test = np.array(X_sm)[train_index], np.array(X_sm)[test_index]\n",
    "    y_train, y_test = np.array(y_sm)[train_index], np.array(y_sm)[test_index]"
   ]
  },
  {
   "cell_type": "code",
   "execution_count": null,
   "metadata": {},
   "outputs": [],
   "source": [
    "clf  = LogisticRegression(random_state=42,max_iter=10000,penalty='l2',C=0.1)\n",
    "clf.fit(X_train, y_train)"
   ]
  },
  {
   "cell_type": "code",
   "execution_count": null,
   "metadata": {},
   "outputs": [],
   "source": [
    "clf.score(X_test, y_test)"
   ]
  },
  {
   "cell_type": "code",
   "execution_count": null,
   "metadata": {},
   "outputs": [],
   "source": [
    "from xgboost import XGBClassifier\n",
    "\n",
    "m = XGBClassifier(\n",
    "    max_depth=2,\n",
    "    gamma=2,\n",
    "    eta=0.8,\n",
    "    reg_alpha=0.5,\n",
    "    reg_lambda=0.5\n",
    ")\n",
    "m.fit(X_train, y_train)"
   ]
  },
  {
   "cell_type": "code",
   "execution_count": null,
   "metadata": {},
   "outputs": [],
   "source": [
    "from sklearn.metrics import accuracy_score\n",
    "y_pred = m.predict(X_test)\n",
    "# evaluate predictions\n",
    "accuracy = accuracy_score(y_test, y_pred)\n",
    "print(\"Accuracy: %.2f%%\" % (accuracy * 100.0))"
   ]
  },
  {
   "cell_type": "code",
   "execution_count": 143,
   "metadata": {},
   "outputs": [],
   "source": [
    "import torch.nn as nn\n",
    "import torch.nn.functional as F\n",
    "\n",
    "class AnnModel(nn.Module):\n",
    "    def __init__(self,in_features=4096,h1=1024,h2=128,out_features=16):\n",
    "        super().__init__()\n",
    "        self.fc1 = nn.Linear(in_features,h1)\n",
    "        self.fc2 = nn.Linear(h1,h2)\n",
    "        self.out = nn.Linear(h2,out_features)\n",
    "#         self.relu = nn.LeakyRelU(inplace=True)\n",
    "        self.bn1 = nn.BatchNorm1d(num_features = h1)\n",
    "        self.bn2 = nn.BatchNorm1d(num_features = h2)\n",
    "        self.dropout = nn.Dropout(0.5)\n",
    "        \n",
    "    def forward(self,x):\n",
    "#         x = F.leaky_relu(self.fc1(x))\n",
    "#         x = F.leaky_relu(self.fc2(x))\n",
    "#         x = self.out(x)\n",
    "#         return x\n",
    "\n",
    "        x = F.leaky_relu(self.bn1(self.fc1(x)))\n",
    "        x = self.dropout(x)\n",
    "        x = F.leaky_relu(self.bn2(self.fc2(x)))\n",
    "        x = self.dropout(x)\n",
    "        x = self.out(x)\n",
    "        return x"
   ]
  },
  {
   "cell_type": "code",
   "execution_count": 144,
   "metadata": {},
   "outputs": [
    {
     "data": {
      "text/plain": [
       "<bound method Module.parameters of AnnModel(\n",
       "  (fc1): Linear(in_features=4096, out_features=1024, bias=True)\n",
       "  (fc2): Linear(in_features=1024, out_features=128, bias=True)\n",
       "  (out): Linear(in_features=128, out_features=16, bias=True)\n",
       "  (bn1): BatchNorm1d(1024, eps=1e-05, momentum=0.1, affine=True, track_running_stats=True)\n",
       "  (bn2): BatchNorm1d(128, eps=1e-05, momentum=0.1, affine=True, track_running_stats=True)\n",
       "  (dropout): Dropout(p=0.5, inplace=False)\n",
       ")>"
      ]
     },
     "execution_count": 144,
     "metadata": {},
     "output_type": "execute_result"
    }
   ],
   "source": [
    "torch.manual_seed(32)\n",
    "model = AnnModel()\n",
    "model.cuda()\n",
    "model.parameters"
   ]
  },
  {
   "cell_type": "code",
   "execution_count": 52,
   "metadata": {},
   "outputs": [
    {
     "name": "stdout",
     "output_type": "stream",
     "text": [
      "2\n",
      "2\n",
      "epoch: 1 and loss 2.7433876991271973\n",
      "2\n",
      "2\n",
      "2\n",
      "2\n",
      "2\n",
      "2\n",
      "2\n",
      "2\n",
      "2\n",
      "2\n",
      "2\n",
      "2\n",
      "2\n",
      "2\n",
      "2\n",
      "2\n",
      "2\n",
      "2\n"
     ]
    }
   ],
   "source": [
    "criterion = nn.CrossEntropyLoss()\n",
    "optimizer = torch.optim.Adam(model.parameters(),lr=0.001)\n",
    "\n",
    "epochs = 10\n",
    "n_batches = 2\n",
    "\n",
    "losses = []\n",
    "for epoch in range(epochs):\n",
    "    for i in range(n_batches):\n",
    "        local_X, local_y = X_train[i*n_batches:(i+1)*n_batches,], y_train[i*n_batches:(i+1)*n_batches,]\n",
    "\n",
    "# for i in range(epochs):\n",
    "#         print(local_X[0], local_y[0])\n",
    "        y_pred = model.forward(torch.FloatTensor(local_X).cuda())\n",
    "        loss = criterion(y_pred, torch.LongTensor(local_y).cuda())\n",
    "    \n",
    "    losses.append(loss)\n",
    "    if epoch%10==0:\n",
    "        print(f\"epoch: {i} and loss {loss}\")\n",
    "\n",
    "        optimizer.zero_grad()\n",
    "        loss.backward()\n",
    "        optimizer.step()\n",
    "\n",
    "torch.cuda.empty_cache()"
   ]
  },
  {
   "cell_type": "code",
   "execution_count": 205,
   "metadata": {},
   "outputs": [],
   "source": [
    "import torch.nn as nn\n",
    "import torch.nn.functional as F\n",
    "\n",
    "class AnnModel(nn.Module):\n",
    "    def __init__(self,in_features=4096,h1=1024,h2=128,out_features=16):\n",
    "        super().__init__()\n",
    "#         self.fc1 = nn.Linear(in_features,h1)\n",
    "#         self.fc2 = nn.Linear(h1,h2)\n",
    "#         self.out = nn.Linear(h1,out_features)\n",
    "#         self.relu = nn.LeakyRelU(inplace=True)\n",
    "#         self.bn1 = nn.BatchNorm1d(num_features = h1)\n",
    "#         self.bn2 = nn.BatchNorm1d(num_features = h2)\n",
    "#         self.dropout = nn.Dropout(0.5)\n",
    "        self.out2 = nn.Linear(in_features,out_features)\n",
    "        self.bn3 = nn.BatchNorm1d(num_features = out_features)\n",
    "        \n",
    "    def forward(self,x):\n",
    "#         x = F.leaky_relu(self.fc1(x))\n",
    "#         x = F.leaky_relu(self.fc2(x))\n",
    "#         x = self.out(x)\n",
    "#         return x\n",
    "\n",
    "#         x = F.leaky_relu(self.bn1(self.fc1(x)))\n",
    "#         x = self.dropout(x)\n",
    "#         x = F.leaky_relu(self.bn2(self.fc2(x)))\n",
    "#         x = self.dropout(x)\n",
    "        x = self.bn3(self.out2(x))\n",
    "        \n",
    "#         print(x)\n",
    "        return x"
   ]
  },
  {
   "cell_type": "code",
   "execution_count": 206,
   "metadata": {},
   "outputs": [
    {
     "data": {
      "text/plain": [
       "<bound method Module.parameters of AnnModel(\n",
       "  (out2): Linear(in_features=4096, out_features=16, bias=True)\n",
       "  (bn3): BatchNorm1d(16, eps=1e-05, momentum=0.1, affine=True, track_running_stats=True)\n",
       ")>"
      ]
     },
     "execution_count": 206,
     "metadata": {},
     "output_type": "execute_result"
    }
   ],
   "source": [
    "torch.manual_seed(32)\n",
    "model = AnnModel()\n",
    "model.cuda()\n",
    "model.parameters"
   ]
  },
  {
   "cell_type": "code",
   "execution_count": 211,
   "metadata": {},
   "outputs": [
    {
     "name": "stdout",
     "output_type": "stream",
     "text": [
      "epoch: 0 and loss 2.801741361618042 and train correct 13390 and test correct 2698\n",
      "epoch: 1 and loss 2.787855863571167 and train correct 12971 and test correct 2694\n",
      "epoch: 2 and loss 2.7802064418792725 and train correct 12942 and test correct 2673\n",
      "epoch: 3 and loss 2.7745232582092285 and train correct 12971 and test correct 2658\n",
      "epoch: 4 and loss 2.769712209701538 and train correct 13051 and test correct 2650\n"
     ]
    },
    {
     "ename": "KeyboardInterrupt",
     "evalue": "",
     "output_type": "error",
     "traceback": [
      "\u001b[0;31m---------------------------------------------------------------------------\u001b[0m",
      "\u001b[0;31mKeyboardInterrupt\u001b[0m                         Traceback (most recent call last)",
      "\u001b[0;32m<ipython-input-211-ae6bb40dcd2c>\u001b[0m in \u001b[0;36m<module>\u001b[0;34m\u001b[0m\n\u001b[1;32m     23\u001b[0m \u001b[0;34m\u001b[0m\u001b[0m\n\u001b[1;32m     24\u001b[0m     \u001b[0;32mfor\u001b[0m \u001b[0mlocal_X\u001b[0m\u001b[0;34m,\u001b[0m \u001b[0mlocal_Y\u001b[0m \u001b[0;32min\u001b[0m \u001b[0mzip\u001b[0m\u001b[0;34m(\u001b[0m\u001b[0mdataload_x\u001b[0m\u001b[0;34m,\u001b[0m\u001b[0mdataload_y\u001b[0m\u001b[0;34m)\u001b[0m\u001b[0;34m:\u001b[0m\u001b[0;34m\u001b[0m\u001b[0;34m\u001b[0m\u001b[0m\n\u001b[0;32m---> 25\u001b[0;31m         \u001b[0my_pred\u001b[0m \u001b[0;34m=\u001b[0m \u001b[0mmodel\u001b[0m\u001b[0;34m(\u001b[0m\u001b[0mlocal_X\u001b[0m\u001b[0;34m.\u001b[0m\u001b[0mfloat\u001b[0m\u001b[0;34m(\u001b[0m\u001b[0;34m)\u001b[0m\u001b[0;34m.\u001b[0m\u001b[0mcuda\u001b[0m\u001b[0;34m(\u001b[0m\u001b[0;34m)\u001b[0m\u001b[0;34m)\u001b[0m\u001b[0;34m\u001b[0m\u001b[0;34m\u001b[0m\u001b[0m\n\u001b[0m\u001b[1;32m     26\u001b[0m         \u001b[0mloss\u001b[0m \u001b[0;34m=\u001b[0m \u001b[0mcriterion\u001b[0m\u001b[0;34m(\u001b[0m\u001b[0my_pred\u001b[0m\u001b[0;34m,\u001b[0m \u001b[0mtorch\u001b[0m\u001b[0;34m.\u001b[0m\u001b[0mLongTensor\u001b[0m\u001b[0;34m(\u001b[0m\u001b[0mlocal_Y\u001b[0m\u001b[0;34m)\u001b[0m\u001b[0;34m.\u001b[0m\u001b[0mcuda\u001b[0m\u001b[0;34m(\u001b[0m\u001b[0;34m)\u001b[0m\u001b[0;34m)\u001b[0m\u001b[0;34m\u001b[0m\u001b[0;34m\u001b[0m\u001b[0m\n\u001b[1;32m     27\u001b[0m \u001b[0;34m\u001b[0m\u001b[0m\n",
      "\u001b[0;31mKeyboardInterrupt\u001b[0m: "
     ]
    }
   ],
   "source": [
    "criterion = nn.CrossEntropyLoss()\n",
    "optimizer = torch.optim.Adam(model.parameters(),lr=1e-6)\n",
    "\n",
    "epochs = 100\n",
    "n_batches = 5\n",
    "\n",
    "train_losses = []\n",
    "train_correct = []\n",
    "test_losses = []\n",
    "test_correct = []\n",
    "slice = len(X_train)\n",
    "\n",
    "\n",
    "dataload_x = DataLoader(X_train[:slice],batch_size=n_batches)\n",
    "dataload_y = DataLoader(y_train[:slice],batch_size=n_batches)\n",
    "\n",
    "test_dataload_x = DataLoader(X_test[:slice],batch_size=n_batches)\n",
    "test_dataload_y = DataLoader(y_test[:slice],batch_size=n_batches)\n",
    "\n",
    "for epoch in range(epochs):\n",
    "    trn_corr = 0\n",
    "    test_corr = 0\n",
    "    \n",
    "    for local_X, local_Y in zip(dataload_x,dataload_y):\n",
    "        y_pred = model(local_X.float().cuda())\n",
    "        loss = criterion(y_pred, torch.LongTensor(local_Y).cuda())\n",
    "        \n",
    "        predicted = torch.max(y_pred.data,1)[1]\n",
    "        batch_corr = (predicted == local_Y.cuda()).sum()\n",
    "        trn_corr+= batch_corr\n",
    "        \n",
    "        optimizer.zero_grad()\n",
    "        loss.backward()\n",
    "        optimizer.step()\n",
    "    \n",
    "    train_losses.append(loss)\n",
    "    train_correct.append(trn_corr)\n",
    "    \n",
    "#     print(f\"epoch: {epoch} and loss {loss}\")\n",
    "    \n",
    "    with torch.no_grad():\n",
    "        for testing_x, testing_y in zip(test_dataload_x,test_dataload_y):\n",
    "            y_val = model(testing_x.float().cuda())\n",
    "            predicted = torch.max(y_val.data,1)[1]\n",
    "            batch_corr= (predicted == testing_y.cuda()).sum()\n",
    "            test_corr+=batch_corr\n",
    "            \n",
    "    loss = criterion(y_val,testing_y.cuda())\n",
    "    test_losses.append(loss)\n",
    "    test_correct.append(test_corr)\n",
    "    \n",
    "    print(f\"epoch: {epoch} and loss {loss} and train correct {trn_corr} and test correct {test_corr}\")\n",
    "\n",
    "torch.cuda.empty_cache()"
   ]
  },
  {
   "cell_type": "code",
   "execution_count": 209,
   "metadata": {},
   "outputs": [
    {
     "data": {
      "image/png": "[encoded data removed]",
      "text/plain": [
       "<Figure size 432x288 with 1 Axes>"
      ]
     },
     "metadata": {
      "needs_background": "light"
     },
     "output_type": "display_data"
    }
   ],
   "source": [
    "plt.plot(train_losses,label=\"train loss\")\n",
    "plt.plot(test_losses,label=\"test loss\")\n",
    "plt.title(\"Loss vs Epoch\")\n",
    "plt.legend();"
   ]
  },
  {
   "cell_type": "code",
   "execution_count": 210,
   "metadata": {},
   "outputs": [
    {
     "data": {
      "image/png": "[encoded data removed]",
      "text/plain": [
       "<Figure size 432x288 with 1 Axes>"
      ]
     },
     "metadata": {
      "needs_background": "light"
     },
     "output_type": "display_data"
    }
   ],
   "source": [
    "plt.plot([t/100 for t in train_correct],label=\"training accuracy\")\n",
    "plt.plot([t/100 for t in test_correct], label=\"testing accuracy\")\n",
    "plt.title(\"Accuracy in each epoch\")\n",
    "plt.legend();"
   ]
  },
  {
   "cell_type": "code",
   "execution_count": null,
   "metadata": {},
   "outputs": [],
   "source": [
    "import matplotlib.pyplot as plt\n",
    "plt.plot(range(epochs),losses)\n",
    "plt.xlabel(\"EPOCH%100\")\n",
    "plt.ylabel(\"Loss\")\n",
    "plt.title(\"Loss vs Epoch\")"
   ]
  },
  {
   "cell_type": "code",
   "execution_count": 187,
   "metadata": {},
   "outputs": [],
   "source": [
    "with torch.no_grad():\n",
    "    y_eval = model.forward(torch.FloatTensor(X_test).cuda())\n",
    "    loss = criterion(y_eval,torch.LongTensor(y_test).cuda())"
   ]
  },
  {
   "cell_type": "code",
   "execution_count": 188,
   "metadata": {},
   "outputs": [
    {
     "name": "stdout",
     "output_type": "stream",
     "text": [
      "Accuracy: 6.79%\n"
     ]
    }
   ],
   "source": [
    "y_pred = []\n",
    "for i in y_eval:\n",
    "    y_pred.append(np.argmax(i.cpu()))\n",
    "\n",
    "from sklearn.metrics import accuracy_score\n",
    "accuracy = accuracy_score(y_pred, y_test)\n",
    "print(\"Accuracy: %.2f%%\" % (accuracy * 100.0))"
   ]
  },
  {
   "cell_type": "code",
   "execution_count": 297,
   "metadata": {},
   "outputs": [],
   "source": [
    "del model\n",
    "torch.cuda.empty_cache()"
   ]
  },
  {
   "cell_type": "code",
   "execution_count": 32,
   "metadata": {},
   "outputs": [],
   "source": [
    "np.save(\"output/embedding_160k_balanced.npy\",X_sm)"
   ]
  },
  {
   "cell_type": "code",
   "execution_count": 212,
   "metadata": {},
   "outputs": [],
   "source": [
    "np.save(\"output/label_160k_balanced.npy\",y_sm)"
   ]
  },
  {
   "cell_type": "code",
   "execution_count": 221,
   "metadata": {},
   "outputs": [],
   "source": [
    "class LSTM_Classifier(nn.Module):\n",
    "    \n",
    "    def __init__(self, embedding_dim, hidden_dim, output_dim, n_layers=2, \n",
    "                 bidirectional=True, dropout=0.5):\n",
    "        super().__init__()\n",
    "         #lstm layer\n",
    "        self.lstm = nn.LSTM(embedding_dim, \n",
    "                           hidden_dim, \n",
    "                           num_layers=n_layers, \n",
    "                           bidirectional=bidirectional, \n",
    "                           dropout=dropout,\n",
    "                           batch_first=True)\n",
    "        #dense layer\n",
    "        self.fc = nn.Linear(hidden_dim * 2, output_dim)\n",
    "        \n",
    "        #activation function\n",
    "        self.act = nn.Sigmoid()\n",
    "    \n",
    "    \n",
    "    def forward(self, embedding):\n",
    "                \n",
    "        packed_output, (hidden, cell) = self.lstm(embedding)\n",
    "        #hidden = [batch size, num layers * num directions,hid dim]\n",
    "        #cell = [batch size, num layers * num directions,hid dim]\n",
    "        \n",
    "        #concat the final forward and backward hidden state\n",
    "        hidden = torch.cat((hidden[-2,:,:], hidden[-1,:,:]), dim = 1)\n",
    "                \n",
    "        #hidden = [batch size, hid dim * num directions]\n",
    "        dense_outputs=self.fc(hidden)\n",
    "\n",
    "        #Final activation function\n",
    "        outputs=self.act(dense_outputs)\n",
    "        \n",
    "        return outputs"
   ]
  },
  {
   "cell_type": "code",
   "execution_count": 286,
   "metadata": {},
   "outputs": [
    {
     "data": {
      "text/plain": [
       "LSTM_Classifier(\n",
       "  (lstm): LSTM(4096, 32, num_layers=2, batch_first=True, dropout=0.5, bidirectional=True)\n",
       "  (fc): Linear(in_features=64, out_features=16, bias=True)\n",
       "  (act): Sigmoid()\n",
       ")"
      ]
     },
     "execution_count": 286,
     "metadata": {},
     "output_type": "execute_result"
    }
   ],
   "source": [
    "embedding_dim = 4096\n",
    "num_hidden_nodes = 32\n",
    "num_output_nodes = 16\n",
    "num_layers = 2\n",
    "bidirection = True\n",
    "dropout = 0.5\n",
    "\n",
    "#instantiate the model\n",
    "model = LSTM_Classifier(embedding_dim, num_hidden_nodes, num_output_nodes, num_layers, bidirectional = True, dropout = dropout)\n",
    "model.cuda()"
   ]
  },
  {
   "cell_type": "code",
   "execution_count": 287,
   "metadata": {},
   "outputs": [
    {
     "name": "stdout",
     "output_type": "stream",
     "text": [
      "The model has 1,083,408 trainable parameters\n"
     ]
    }
   ],
   "source": [
    "#No. of trianable parameters\n",
    "def count_parameters(model):\n",
    "    return sum(p.numel() for p in model.parameters() if p.requires_grad)\n",
    "    \n",
    "print(f'The model has {count_parameters(model):,} trainable parameters')"
   ]
  },
  {
   "cell_type": "code",
   "execution_count": 296,
   "metadata": {},
   "outputs": [
    {
     "name": "stdout",
     "output_type": "stream",
     "text": [
      "epoch: 0 and loss 2.7678768634796143 and train correct 7282 and test correct 1993\n",
      "epoch: 1 and loss 2.767824649810791 and train correct 7751 and test correct 1999\n",
      "epoch: 2 and loss 2.767810106277466 and train correct 7919 and test correct 1985\n",
      "epoch: 3 and loss 2.7675631046295166 and train correct 8007 and test correct 1986\n",
      "epoch: 4 and loss 2.766683340072632 and train correct 8012 and test correct 2004\n",
      "epoch: 5 and loss 2.7659010887145996 and train correct 8078 and test correct 2012\n",
      "epoch: 6 and loss 2.765482187271118 and train correct 7995 and test correct 1965\n"
     ]
    },
    {
     "ename": "KeyboardInterrupt",
     "evalue": "",
     "output_type": "error",
     "traceback": [
      "\u001b[0;31m---------------------------------------------------------------------------\u001b[0m",
      "\u001b[0;31mKeyboardInterrupt\u001b[0m                         Traceback (most recent call last)",
      "\u001b[0;32m<ipython-input-296-65e88a6a567e>\u001b[0m in \u001b[0;36m<module>\u001b[0;34m\u001b[0m\n\u001b[1;32m     33\u001b[0m \u001b[0;34m\u001b[0m\u001b[0m\n\u001b[1;32m     34\u001b[0m         \u001b[0moptimizer\u001b[0m\u001b[0;34m.\u001b[0m\u001b[0mzero_grad\u001b[0m\u001b[0;34m(\u001b[0m\u001b[0;34m)\u001b[0m\u001b[0;34m\u001b[0m\u001b[0;34m\u001b[0m\u001b[0m\n\u001b[0;32m---> 35\u001b[0;31m         \u001b[0mloss\u001b[0m\u001b[0;34m.\u001b[0m\u001b[0mbackward\u001b[0m\u001b[0;34m(\u001b[0m\u001b[0;34m)\u001b[0m\u001b[0;34m\u001b[0m\u001b[0;34m\u001b[0m\u001b[0m\n\u001b[0m\u001b[1;32m     36\u001b[0m         \u001b[0moptimizer\u001b[0m\u001b[0;34m.\u001b[0m\u001b[0mstep\u001b[0m\u001b[0;34m(\u001b[0m\u001b[0;34m)\u001b[0m\u001b[0;34m\u001b[0m\u001b[0;34m\u001b[0m\u001b[0m\n\u001b[1;32m     37\u001b[0m \u001b[0;34m\u001b[0m\u001b[0m\n",
      "\u001b[0;32m/opt/anaconda3/lib/python3.7/site-packages/torch/tensor.py\u001b[0m in \u001b[0;36mbackward\u001b[0;34m(self, gradient, retain_graph, create_graph)\u001b[0m\n\u001b[1;32m    193\u001b[0m                 \u001b[0mproducts\u001b[0m\u001b[0;34m.\u001b[0m \u001b[0mDefaults\u001b[0m \u001b[0mto\u001b[0m\u001b[0;31m \u001b[0m\u001b[0;31m`\u001b[0m\u001b[0;31m`\u001b[0m\u001b[0;32mFalse\u001b[0m\u001b[0;31m`\u001b[0m\u001b[0;31m`\u001b[0m\u001b[0;34m.\u001b[0m\u001b[0;34m\u001b[0m\u001b[0;34m\u001b[0m\u001b[0m\n\u001b[1;32m    194\u001b[0m         \"\"\"\n\u001b[0;32m--> 195\u001b[0;31m         \u001b[0mtorch\u001b[0m\u001b[0;34m.\u001b[0m\u001b[0mautograd\u001b[0m\u001b[0;34m.\u001b[0m\u001b[0mbackward\u001b[0m\u001b[0;34m(\u001b[0m\u001b[0mself\u001b[0m\u001b[0;34m,\u001b[0m \u001b[0mgradient\u001b[0m\u001b[0;34m,\u001b[0m \u001b[0mretain_graph\u001b[0m\u001b[0;34m,\u001b[0m \u001b[0mcreate_graph\u001b[0m\u001b[0;34m)\u001b[0m\u001b[0;34m\u001b[0m\u001b[0;34m\u001b[0m\u001b[0m\n\u001b[0m\u001b[1;32m    196\u001b[0m \u001b[0;34m\u001b[0m\u001b[0m\n\u001b[1;32m    197\u001b[0m     \u001b[0;32mdef\u001b[0m \u001b[0mregister_hook\u001b[0m\u001b[0;34m(\u001b[0m\u001b[0mself\u001b[0m\u001b[0;34m,\u001b[0m \u001b[0mhook\u001b[0m\u001b[0;34m)\u001b[0m\u001b[0;34m:\u001b[0m\u001b[0;34m\u001b[0m\u001b[0;34m\u001b[0m\u001b[0m\n",
      "\u001b[0;32m/opt/anaconda3/lib/python3.7/site-packages/torch/autograd/__init__.py\u001b[0m in \u001b[0;36mbackward\u001b[0;34m(tensors, grad_tensors, retain_graph, create_graph, grad_variables)\u001b[0m\n\u001b[1;32m     97\u001b[0m     Variable._execution_engine.run_backward(\n\u001b[1;32m     98\u001b[0m         \u001b[0mtensors\u001b[0m\u001b[0;34m,\u001b[0m \u001b[0mgrad_tensors\u001b[0m\u001b[0;34m,\u001b[0m \u001b[0mretain_graph\u001b[0m\u001b[0;34m,\u001b[0m \u001b[0mcreate_graph\u001b[0m\u001b[0;34m,\u001b[0m\u001b[0;34m\u001b[0m\u001b[0;34m\u001b[0m\u001b[0m\n\u001b[0;32m---> 99\u001b[0;31m         allow_unreachable=True)  # allow_unreachable flag\n\u001b[0m\u001b[1;32m    100\u001b[0m \u001b[0;34m\u001b[0m\u001b[0m\n\u001b[1;32m    101\u001b[0m \u001b[0;34m\u001b[0m\u001b[0m\n",
      "\u001b[0;31mKeyboardInterrupt\u001b[0m: "
     ]
    }
   ],
   "source": [
    "criterion = nn.CrossEntropyLoss()\n",
    "optimizer = torch.optim.Adam(model.parameters(),lr=1e-6)\n",
    "\n",
    "epochs = 100\n",
    "n_batches = 100\n",
    "\n",
    "train_losses = []\n",
    "train_correct = []\n",
    "test_losses = []\n",
    "test_correct = []\n",
    "slice = len(X_train)\n",
    "\n",
    "\n",
    "dataload_x = DataLoader(X_train[:slice],batch_size=n_batches)\n",
    "dataload_y = DataLoader(y_train[:slice],batch_size=n_batches)\n",
    "\n",
    "test_dataload_x = DataLoader(X_test[:slice],batch_size=n_batches)\n",
    "test_dataload_y = DataLoader(y_test[:slice],batch_size=n_batches)\n",
    "\n",
    "for epoch in range(epochs):\n",
    "    trn_corr = 0\n",
    "    test_corr = 0\n",
    "    \n",
    "    for local_X, local_Y in zip(dataload_x,dataload_y):\n",
    "        local_X = local_X.unsqueeze(2).view(n_batches,1,4096)\n",
    "\n",
    "        y_pred = model(local_X.float().cuda())\n",
    "        loss = criterion(y_pred, torch.LongTensor(local_Y).cuda())\n",
    "        \n",
    "        predicted = torch.max(y_pred.data,1)[1]\n",
    "        batch_corr = (predicted == local_Y.cuda()).sum()\n",
    "        trn_corr+= batch_corr\n",
    "        \n",
    "        optimizer.zero_grad()\n",
    "        loss.backward()\n",
    "        optimizer.step()\n",
    "    \n",
    "    train_losses.append(loss)\n",
    "    train_correct.append(trn_corr)\n",
    "    \n",
    "#     print(f\"epoch: {epoch} and loss {loss}\")\n",
    "    \n",
    "    with torch.no_grad():\n",
    "        for testing_x, testing_y in zip(test_dataload_x,test_dataload_y):\n",
    "            y_val = model(testing_x.unsqueeze(2).view(n_batches,1,4096).float().cuda())\n",
    "            predicted = torch.max(y_val.data,1)[1]\n",
    "            batch_corr= (predicted == testing_y.cuda()).sum()\n",
    "            test_corr+=batch_corr\n",
    "            \n",
    "    loss = criterion(y_val,testing_y.cuda())\n",
    "    test_losses.append(loss)\n",
    "    test_correct.append(test_corr)\n",
    "    \n",
    "    print(f\"epoch: {epoch} and loss {loss} and train correct {trn_corr} and test correct {test_corr}\")\n",
    "\n",
    "torch.cuda.empty_cache()"
   ]
  },
  {
   "cell_type": "code",
   "execution_count": 227,
   "metadata": {},
   "outputs": [],
   "source": [
    "agh = torch.Tensor([[1],[2]])"
   ]
  },
  {
   "cell_type": "code",
   "execution_count": 232,
   "metadata": {},
   "outputs": [
    {
     "data": {
      "text/plain": [
       "torch.Size([2, 1])"
      ]
     },
     "execution_count": 232,
     "metadata": {},
     "output_type": "execute_result"
    }
   ],
   "source": [
    "agh.shape"
   ]
  },
  {
   "cell_type": "code",
   "execution_count": 271,
   "metadata": {},
   "outputs": [
    {
     "name": "stdout",
     "output_type": "stream",
     "text": [
      "tensor([[0., 0.],\n",
      "        [0., 0.]])\n"
     ]
    },
    {
     "data": {
      "text/plain": [
       "torch.Size([2, 2, 1])"
      ]
     },
     "execution_count": 271,
     "metadata": {},
     "output_type": "execute_result"
    }
   ],
   "source": [
    "x1 = torch.zeros(2, 2)\n",
    "print(x1)\n",
    "x2 = torch.unsqueeze(x1,2)\n",
    "x2.shape"
   ]
  },
  {
   "cell_type": "code",
   "execution_count": 272,
   "metadata": {},
   "outputs": [
    {
     "data": {
      "text/plain": [
       "torch.Size([2, 2, 1, 1])"
      ]
     },
     "execution_count": 272,
     "metadata": {},
     "output_type": "execute_result"
    }
   ],
   "source": [
    "x2.unsqueeze(2).shape"
   ]
  },
  {
   "cell_type": "code",
   "execution_count": 280,
   "metadata": {},
   "outputs": [
    {
     "data": {
      "text/plain": [
       "torch.Size([1, 1, 2, 2])"
      ]
     },
     "execution_count": 280,
     "metadata": {},
     "output_type": "execute_result"
    }
   ],
   "source": [
    "x2.view(1,1,2,2).shape"
   ]
  },
  {
   "cell_type": "code",
   "execution_count": null,
   "metadata": {},
   "outputs": [],
   "source": []
  }
 ],
 "metadata": {
  "kernelspec": {
   "display_name": "Python 3",
   "language": "python",
   "name": "python3"
  },
  "language_info": {
   "codemirror_mode": {
    "name": "ipython",
    "version": 3
   },
   "file_extension": ".py",
   "mimetype": "text/x-python",
   "name": "python",
   "nbconvert_exporter": "python",
   "pygments_lexer": "ipython3",
   "version": "3.7.4"
  }
 },
 "nbformat": 4,
 "nbformat_minor": 4
}
